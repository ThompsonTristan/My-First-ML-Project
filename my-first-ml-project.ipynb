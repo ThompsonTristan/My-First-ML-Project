{
 "cells": [
  {
   "cell_type": "code",
   "execution_count": 1,
   "id": "40f05a9b",
   "metadata": {
    "_cell_guid": "b1076dfc-b9ad-4769-8c92-a6c4dae69d19",
    "_uuid": "8f2839f25d086af736a60e9eeb907d3b93b6e0e5",
    "execution": {
     "iopub.execute_input": "2024-02-09T10:41:22.376984Z",
     "iopub.status.busy": "2024-02-09T10:41:22.376542Z",
     "iopub.status.idle": "2024-02-09T10:41:23.387714Z",
     "shell.execute_reply": "2024-02-09T10:41:23.386516Z"
    },
    "papermill": {
     "duration": 1.027021,
     "end_time": "2024-02-09T10:41:23.390762",
     "exception": false,
     "start_time": "2024-02-09T10:41:22.363741",
     "status": "completed"
    },
    "tags": []
   },
   "outputs": [
    {
     "name": "stdout",
     "output_type": "stream",
     "text": [
      "/kaggle/input/iris/Iris.csv\n",
      "/kaggle/input/iris/database.sqlite\n"
     ]
    }
   ],
   "source": [
    "# This Python 3 environment comes with many helpful analytics libraries installed\n",
    "# It is defined by the kaggle/python Docker image: https://github.com/kaggle/docker-python\n",
    "# For example, here's several helpful packages to load\n",
    "\n",
    "import numpy as np # linear algebra\n",
    "import pandas as pd # data processing, CSV file I/O (e.g. pd.read_csv)\n",
    "\n",
    "# Input data files are available in the read-only \"../input/\" directory\n",
    "# For example, running this (by clicking run or pressing Shift+Enter) will list all files under the input directory\n",
    "\n",
    "import os\n",
    "for dirname, _, filenames in os.walk('/kaggle/input'):\n",
    "    for filename in filenames:\n",
    "        print(os.path.join(dirname, filename))\n",
    "\n",
    "# You can write up to 20GB to the current directory (/kaggle/working/) that gets preserved as output when you create a version using \"Save & Run All\" \n",
    "# You can also write temporary files to /kaggle/temp/, but they won't be saved outside of the current session"
   ]
  },
  {
   "cell_type": "markdown",
   "id": "e62b5337",
   "metadata": {
    "papermill": {
     "duration": 0.010186,
     "end_time": "2024-02-09T10:41:23.413133",
     "exception": false,
     "start_time": "2024-02-09T10:41:23.402947",
     "status": "completed"
    },
    "tags": []
   },
   "source": [
    "## Begin the Manual Procedure"
   ]
  },
  {
   "cell_type": "code",
   "execution_count": 2,
   "id": "d2c22fbd",
   "metadata": {
    "execution": {
     "iopub.execute_input": "2024-02-09T10:41:23.437164Z",
     "iopub.status.busy": "2024-02-09T10:41:23.435807Z",
     "iopub.status.idle": "2024-02-09T10:41:23.490281Z",
     "shell.execute_reply": "2024-02-09T10:41:23.488697Z"
    },
    "papermill": {
     "duration": 0.069445,
     "end_time": "2024-02-09T10:41:23.493282",
     "exception": false,
     "start_time": "2024-02-09T10:41:23.423837",
     "status": "completed"
    },
    "tags": []
   },
   "outputs": [
    {
     "name": "stdout",
     "output_type": "stream",
     "text": [
      "<class 'pandas.core.frame.DataFrame'>\n",
      "RangeIndex: 150 entries, 0 to 149\n",
      "Data columns (total 5 columns):\n",
      " #   Column         Non-Null Count  Dtype  \n",
      "---  ------         --------------  -----  \n",
      " 0   SepalLengthCm  150 non-null    float64\n",
      " 1   SepalWidthCm   150 non-null    float64\n",
      " 2   PetalLengthCm  150 non-null    float64\n",
      " 3   PetalWidthCm   150 non-null    float64\n",
      " 4   Species        150 non-null    object \n",
      "dtypes: float64(4), object(1)\n",
      "memory usage: 6.0+ KB\n"
     ]
    }
   ],
   "source": [
    "df_manual = pd.read_csv('/kaggle/input/iris/Iris.csv')\n",
    "df_manual = df_manual.drop(columns=['Id'])\n",
    "df_manual.info()"
   ]
  },
  {
   "cell_type": "markdown",
   "id": "3e67291b",
   "metadata": {
    "papermill": {
     "duration": 0.010512,
     "end_time": "2024-02-09T10:41:23.514429",
     "exception": false,
     "start_time": "2024-02-09T10:41:23.503917",
     "status": "completed"
    },
    "tags": []
   },
   "source": [
    "## Manual Label Encoding"
   ]
  },
  {
   "cell_type": "code",
   "execution_count": 3,
   "id": "2e9053fa",
   "metadata": {
    "execution": {
     "iopub.execute_input": "2024-02-09T10:41:23.537323Z",
     "iopub.status.busy": "2024-02-09T10:41:23.536936Z",
     "iopub.status.idle": "2024-02-09T10:41:23.546339Z",
     "shell.execute_reply": "2024-02-09T10:41:23.545002Z"
    },
    "papermill": {
     "duration": 0.024246,
     "end_time": "2024-02-09T10:41:23.549266",
     "exception": false,
     "start_time": "2024-02-09T10:41:23.525020",
     "status": "completed"
    },
    "tags": []
   },
   "outputs": [
    {
     "name": "stderr",
     "output_type": "stream",
     "text": [
      "/tmp/ipykernel_18/2979275018.py:5: FutureWarning: Downcasting behavior in `replace` is deprecated and will be removed in a future version. To retain the old behavior, explicitly call `result.infer_objects(copy=False)`. To opt-in to the future behavior, set `pd.set_option('future.no_silent_downcasting', True)`\n",
      "  df_manual['Species'] = df_manual['Species'].replace(encoding)\n"
     ]
    }
   ],
   "source": [
    "label = [i for i in df_manual['Species'].drop_duplicates()]\n",
    "number = [i for i in range(3)]\n",
    "\n",
    "encoding = dict(zip(label, number))\n",
    "df_manual['Species'] = df_manual['Species'].replace(encoding)"
   ]
  },
  {
   "cell_type": "markdown",
   "id": "04690738",
   "metadata": {
    "papermill": {
     "duration": 0.010177,
     "end_time": "2024-02-09T10:41:23.570137",
     "exception": false,
     "start_time": "2024-02-09T10:41:23.559960",
     "status": "completed"
    },
    "tags": []
   },
   "source": [
    "## Normalize Data Manually"
   ]
  },
  {
   "cell_type": "code",
   "execution_count": 4,
   "id": "a0a385ab",
   "metadata": {
    "execution": {
     "iopub.execute_input": "2024-02-09T10:41:23.593027Z",
     "iopub.status.busy": "2024-02-09T10:41:23.592633Z",
     "iopub.status.idle": "2024-02-09T10:41:23.602509Z",
     "shell.execute_reply": "2024-02-09T10:41:23.601544Z"
    },
    "papermill": {
     "duration": 0.024327,
     "end_time": "2024-02-09T10:41:23.605039",
     "exception": false,
     "start_time": "2024-02-09T10:41:23.580712",
     "status": "completed"
    },
    "tags": []
   },
   "outputs": [],
   "source": [
    "def normalize_manual(df,\n",
    "                     method='zscore'):\n",
    "        \n",
    "    if method == 'decimal':\n",
    "        \n",
    "        # Using Decimal Scaling\n",
    "        for i in df.columns[:-1]:\n",
    "            mini = df[i].min()\n",
    "            df[i] = df[i].apply(lambda x: x / 10**mini)\n",
    "\n",
    "    elif method == 'zscore':\n",
    "        \n",
    "        # Using Z-Score Scaling\n",
    "        for i in df.columns[:-1]:\n",
    "            std = np.std(df[i])\n",
    "            mean = df[i].mean()\n",
    "            df[i] = df[i].apply(lambda x: (x - mean) / std)\n",
    "\n",
    "    elif method == 'log':\n",
    "        \n",
    "        # Using Logaritm Scaling\n",
    "        for i in df.columns[:-1]:\n",
    "            df[i] = df[i].apply(lambda x: np.log([x])[0])\n",
    "    \n",
    "    return df"
   ]
  },
  {
   "cell_type": "code",
   "execution_count": 5,
   "id": "1caeb28d",
   "metadata": {
    "execution": {
     "iopub.execute_input": "2024-02-09T10:41:23.632331Z",
     "iopub.status.busy": "2024-02-09T10:41:23.631945Z",
     "iopub.status.idle": "2024-02-09T10:41:23.641758Z",
     "shell.execute_reply": "2024-02-09T10:41:23.640345Z"
    },
    "papermill": {
     "duration": 0.026678,
     "end_time": "2024-02-09T10:41:23.644627",
     "exception": false,
     "start_time": "2024-02-09T10:41:23.617949",
     "status": "completed"
    },
    "tags": []
   },
   "outputs": [],
   "source": [
    "df_manual = normalize_manual(df_manual)"
   ]
  },
  {
   "cell_type": "markdown",
   "id": "e99a3a60",
   "metadata": {
    "papermill": {
     "duration": 0.011233,
     "end_time": "2024-02-09T10:41:23.666819",
     "exception": false,
     "start_time": "2024-02-09T10:41:23.655586",
     "status": "completed"
    },
    "tags": []
   },
   "source": [
    "## Split The Data into Train and Test Manually"
   ]
  },
  {
   "cell_type": "code",
   "execution_count": 6,
   "id": "8863d830",
   "metadata": {
    "execution": {
     "iopub.execute_input": "2024-02-09T10:41:23.691781Z",
     "iopub.status.busy": "2024-02-09T10:41:23.691367Z",
     "iopub.status.idle": "2024-02-09T10:41:23.705389Z",
     "shell.execute_reply": "2024-02-09T10:41:23.703768Z"
    },
    "papermill": {
     "duration": 0.030132,
     "end_time": "2024-02-09T10:41:23.708492",
     "exception": false,
     "start_time": "2024-02-09T10:41:23.678360",
     "status": "completed"
    },
    "tags": []
   },
   "outputs": [],
   "source": [
    "def train_test_df_split(df,\n",
    "                        y_column,\n",
    "                        test_size,\n",
    "                        randomize=0):\n",
    "    \n",
    "    label = [i for i in df[y_column].drop_duplicates()]\n",
    "    \n",
    "    # Prepare the First Data Segment based on Label\n",
    "    x_train = df[df[y_column] == label[0]]\n",
    "    \n",
    "    # Calculate the Train Size based on the Amount of Row\n",
    "    train_size = int(x_train.shape[0] * (1-test_size))\n",
    "    \n",
    "    # Split the first Train and Test Data Segment based on Label\n",
    "    x_train = x_train.iloc[:train_size,:]\n",
    "    x_test = x_train.iloc[train_size:,:]\n",
    "    \n",
    "    for i in label[1:]:\n",
    "        \n",
    "        # Prepare the next Data Segment based on Label\n",
    "        temp = df[df[y_column] == i]\n",
    "        \n",
    "        # Calculate the next Train Size based on the Amount of Row\n",
    "        train_size = int(temp.shape[0] * (1-test_size))\n",
    "        \n",
    "        # Split the next Train and Test Data Segment based on Label\n",
    "        temp_train = temp.iloc[:train_size,:]\n",
    "        temp_test = x_train.iloc[train_size:,:]\n",
    "        \n",
    "        # Execute the concat for Train Data\n",
    "        x_train = pd.concat([x_train, temp_train],\n",
    "                            ignore_index=True)\n",
    "        \n",
    "        # Execute the concat for Test Data\n",
    "        x_test = pd.concat([x_test, temp_test],\n",
    "                            ignore_index=True)\n",
    "    \n",
    "    # Randomize the Train Data and Reset the Index\n",
    "    if randomize > 0:\n",
    "        \n",
    "        for i in range(randomize):\n",
    "            x_train = x_train.sample(frac=1)\n",
    "        \n",
    "        # Reset the Index without 'index' Column\n",
    "        x_train = x_train.reset_index(drop=True)\n",
    "    \n",
    "    # Split the Train Data's Feature and Label\n",
    "    x_train, y_train = x_train.drop(columns=[y_column]), x_train[y_column]\n",
    "    \n",
    "    # Split the Test Data's Feature and Label\n",
    "    x_test, y_test = x_test.drop(columns=[y_column]), x_test[y_column]\n",
    "    \n",
    "    return x_train, x_test, y_train, y_test"
   ]
  },
  {
   "cell_type": "code",
   "execution_count": 7,
   "id": "154f28f7",
   "metadata": {
    "execution": {
     "iopub.execute_input": "2024-02-09T10:41:23.733660Z",
     "iopub.status.busy": "2024-02-09T10:41:23.732820Z",
     "iopub.status.idle": "2024-02-09T10:41:23.749640Z",
     "shell.execute_reply": "2024-02-09T10:41:23.748396Z"
    },
    "papermill": {
     "duration": 0.032167,
     "end_time": "2024-02-09T10:41:23.752355",
     "exception": false,
     "start_time": "2024-02-09T10:41:23.720188",
     "status": "completed"
    },
    "tags": []
   },
   "outputs": [],
   "source": [
    "x_train, x_test, y_train, y_test = train_test_df_split(df_manual,\n",
    "                                                       'Species',\n",
    "                                                       0.25,\n",
    "                                                       randomize=10)"
   ]
  },
  {
   "cell_type": "markdown",
   "id": "e36d800e",
   "metadata": {
    "papermill": {
     "duration": 0.010298,
     "end_time": "2024-02-09T10:41:23.773191",
     "exception": false,
     "start_time": "2024-02-09T10:41:23.762893",
     "status": "completed"
    },
    "tags": []
   },
   "source": [
    "## Prepare The Model (Not Manually LOL)"
   ]
  },
  {
   "cell_type": "code",
   "execution_count": 8,
   "id": "95f3cd47",
   "metadata": {
    "execution": {
     "iopub.execute_input": "2024-02-09T10:41:23.797025Z",
     "iopub.status.busy": "2024-02-09T10:41:23.796164Z",
     "iopub.status.idle": "2024-02-09T10:41:25.373039Z",
     "shell.execute_reply": "2024-02-09T10:41:25.371698Z"
    },
    "papermill": {
     "duration": 1.592502,
     "end_time": "2024-02-09T10:41:25.376184",
     "exception": false,
     "start_time": "2024-02-09T10:41:23.783682",
     "status": "completed"
    },
    "tags": []
   },
   "outputs": [],
   "source": [
    "from sklearn.neighbors import KNeighborsClassifier"
   ]
  },
  {
   "cell_type": "code",
   "execution_count": 9,
   "id": "e06148fc",
   "metadata": {
    "execution": {
     "iopub.execute_input": "2024-02-09T10:41:25.400543Z",
     "iopub.status.busy": "2024-02-09T10:41:25.400124Z",
     "iopub.status.idle": "2024-02-09T10:41:25.421987Z",
     "shell.execute_reply": "2024-02-09T10:41:25.420909Z"
    },
    "papermill": {
     "duration": 0.037129,
     "end_time": "2024-02-09T10:41:25.424150",
     "exception": false,
     "start_time": "2024-02-09T10:41:25.387021",
     "status": "completed"
    },
    "tags": []
   },
   "outputs": [
    {
     "data": {
      "text/plain": [
       "0.9459459459459459"
      ]
     },
     "execution_count": 9,
     "metadata": {},
     "output_type": "execute_result"
    }
   ],
   "source": [
    "# Initiate the Model\n",
    "clf = KNeighborsClassifier()\n",
    "\n",
    "# Fit the Train Feature and Train Label\n",
    "clf.fit(x_train, y_train)\n",
    "\n",
    "# Test the Model using Test Feature and Test Label\n",
    "clf.score(x_test, y_test)"
   ]
  },
  {
   "cell_type": "markdown",
   "id": "53d7ccd4",
   "metadata": {
    "papermill": {
     "duration": 0.01053,
     "end_time": "2024-02-09T10:41:25.445540",
     "exception": false,
     "start_time": "2024-02-09T10:41:25.435010",
     "status": "completed"
    },
    "tags": []
   },
   "source": [
    "## Now using Deep Learinig with Tensorflow"
   ]
  },
  {
   "cell_type": "code",
   "execution_count": 10,
   "id": "4adc6e15",
   "metadata": {
    "execution": {
     "iopub.execute_input": "2024-02-09T10:41:25.471681Z",
     "iopub.status.busy": "2024-02-09T10:41:25.469586Z",
     "iopub.status.idle": "2024-02-09T10:41:41.446286Z",
     "shell.execute_reply": "2024-02-09T10:41:41.444886Z"
    },
    "papermill": {
     "duration": 15.993213,
     "end_time": "2024-02-09T10:41:41.449503",
     "exception": false,
     "start_time": "2024-02-09T10:41:25.456290",
     "status": "completed"
    },
    "tags": []
   },
   "outputs": [
    {
     "name": "stderr",
     "output_type": "stream",
     "text": [
      "2024-02-09 10:41:27.922770: E external/local_xla/xla/stream_executor/cuda/cuda_dnn.cc:9261] Unable to register cuDNN factory: Attempting to register factory for plugin cuDNN when one has already been registered\n",
      "2024-02-09 10:41:27.922910: E external/local_xla/xla/stream_executor/cuda/cuda_fft.cc:607] Unable to register cuFFT factory: Attempting to register factory for plugin cuFFT when one has already been registered\n",
      "2024-02-09 10:41:28.106818: E external/local_xla/xla/stream_executor/cuda/cuda_blas.cc:1515] Unable to register cuBLAS factory: Attempting to register factory for plugin cuBLAS when one has already been registered\n"
     ]
    }
   ],
   "source": [
    "from tensorflow.keras import Sequential, layers"
   ]
  },
  {
   "cell_type": "code",
   "execution_count": 11,
   "id": "57767e64",
   "metadata": {
    "execution": {
     "iopub.execute_input": "2024-02-09T10:41:41.476449Z",
     "iopub.status.busy": "2024-02-09T10:41:41.475097Z",
     "iopub.status.idle": "2024-02-09T10:41:41.621077Z",
     "shell.execute_reply": "2024-02-09T10:41:41.619406Z"
    },
    "papermill": {
     "duration": 0.163131,
     "end_time": "2024-02-09T10:41:41.624457",
     "exception": false,
     "start_time": "2024-02-09T10:41:41.461326",
     "status": "completed"
    },
    "tags": []
   },
   "outputs": [],
   "source": [
    "model = Sequential([\n",
    "    layers.Dense(32, activation='linear',\n",
    "                 input_shape=[4,]),\n",
    "    layers.Dense(3, activation='softmax')\n",
    "])\n",
    "\n",
    "model.compile(loss='sparse_categorical_crossentropy',\n",
    "              optimizer='adam',\n",
    "              metrics=['accuracy'])"
   ]
  },
  {
   "cell_type": "code",
   "execution_count": 12,
   "id": "5d671707",
   "metadata": {
    "execution": {
     "iopub.execute_input": "2024-02-09T10:41:41.649219Z",
     "iopub.status.busy": "2024-02-09T10:41:41.648811Z",
     "iopub.status.idle": "2024-02-09T10:41:52.634055Z",
     "shell.execute_reply": "2024-02-09T10:41:52.632689Z"
    },
    "papermill": {
     "duration": 11.001465,
     "end_time": "2024-02-09T10:41:52.637337",
     "exception": false,
     "start_time": "2024-02-09T10:41:41.635872",
     "status": "completed"
    },
    "tags": []
   },
   "outputs": [
    {
     "name": "stdout",
     "output_type": "stream",
     "text": [
      "Epoch 1/100\n",
      "4/4 [==============================] - 1s 101ms/step - loss: 0.9074 - accuracy: 0.6757 - val_loss: 0.9184 - val_accuracy: 0.7568\n",
      "Epoch 2/100\n",
      "4/4 [==============================] - 0s 15ms/step - loss: 0.8369 - accuracy: 0.7117 - val_loss: 0.9233 - val_accuracy: 0.6216\n",
      "Epoch 3/100\n",
      "4/4 [==============================] - 0s 14ms/step - loss: 0.7734 - accuracy: 0.7387 - val_loss: 0.9246 - val_accuracy: 0.6486\n",
      "Epoch 4/100\n",
      "4/4 [==============================] - 0s 15ms/step - loss: 0.7184 - accuracy: 0.8018 - val_loss: 0.9223 - val_accuracy: 0.5946\n",
      "Epoch 5/100\n",
      "4/4 [==============================] - 0s 14ms/step - loss: 0.6744 - accuracy: 0.8018 - val_loss: 0.9215 - val_accuracy: 0.5946\n",
      "Epoch 6/100\n",
      "4/4 [==============================] - 0s 15ms/step - loss: 0.6351 - accuracy: 0.8198 - val_loss: 0.9182 - val_accuracy: 0.5676\n",
      "Epoch 7/100\n",
      "4/4 [==============================] - 0s 14ms/step - loss: 0.6034 - accuracy: 0.8018 - val_loss: 0.9151 - val_accuracy: 0.4865\n",
      "Epoch 8/100\n",
      "4/4 [==============================] - 0s 19ms/step - loss: 0.5767 - accuracy: 0.8018 - val_loss: 0.9112 - val_accuracy: 0.4595\n",
      "Epoch 9/100\n",
      "4/4 [==============================] - 0s 14ms/step - loss: 0.5533 - accuracy: 0.7928 - val_loss: 0.9066 - val_accuracy: 0.4595\n",
      "Epoch 10/100\n",
      "4/4 [==============================] - 0s 14ms/step - loss: 0.5340 - accuracy: 0.7928 - val_loss: 0.9021 - val_accuracy: 0.4595\n",
      "Epoch 11/100\n",
      "4/4 [==============================] - 0s 14ms/step - loss: 0.5166 - accuracy: 0.7928 - val_loss: 0.8948 - val_accuracy: 0.4595\n",
      "Epoch 12/100\n",
      "4/4 [==============================] - 0s 15ms/step - loss: 0.5023 - accuracy: 0.7928 - val_loss: 0.8870 - val_accuracy: 0.4595\n",
      "Epoch 13/100\n",
      "4/4 [==============================] - 0s 13ms/step - loss: 0.4887 - accuracy: 0.7928 - val_loss: 0.8776 - val_accuracy: 0.4595\n",
      "Epoch 14/100\n",
      "4/4 [==============================] - 0s 19ms/step - loss: 0.4770 - accuracy: 0.7928 - val_loss: 0.8663 - val_accuracy: 0.4595\n",
      "Epoch 15/100\n",
      "4/4 [==============================] - 0s 12ms/step - loss: 0.4669 - accuracy: 0.7928 - val_loss: 0.8560 - val_accuracy: 0.4865\n",
      "Epoch 16/100\n",
      "4/4 [==============================] - 0s 14ms/step - loss: 0.4568 - accuracy: 0.8018 - val_loss: 0.8422 - val_accuracy: 0.4865\n",
      "Epoch 17/100\n",
      "4/4 [==============================] - 0s 22ms/step - loss: 0.4481 - accuracy: 0.8018 - val_loss: 0.8328 - val_accuracy: 0.4865\n",
      "Epoch 18/100\n",
      "4/4 [==============================] - 0s 14ms/step - loss: 0.4398 - accuracy: 0.8018 - val_loss: 0.8186 - val_accuracy: 0.4865\n",
      "Epoch 19/100\n",
      "4/4 [==============================] - 0s 13ms/step - loss: 0.4323 - accuracy: 0.8018 - val_loss: 0.8016 - val_accuracy: 0.4865\n",
      "Epoch 20/100\n",
      "4/4 [==============================] - 0s 15ms/step - loss: 0.4248 - accuracy: 0.8018 - val_loss: 0.7870 - val_accuracy: 0.5135\n",
      "Epoch 21/100\n",
      "4/4 [==============================] - 0s 13ms/step - loss: 0.4184 - accuracy: 0.8198 - val_loss: 0.7716 - val_accuracy: 0.5405\n",
      "Epoch 22/100\n",
      "4/4 [==============================] - 0s 13ms/step - loss: 0.4119 - accuracy: 0.8198 - val_loss: 0.7635 - val_accuracy: 0.5405\n",
      "Epoch 23/100\n",
      "4/4 [==============================] - 0s 18ms/step - loss: 0.4057 - accuracy: 0.8198 - val_loss: 0.7500 - val_accuracy: 0.5946\n",
      "Epoch 24/100\n",
      "4/4 [==============================] - 0s 15ms/step - loss: 0.4002 - accuracy: 0.8378 - val_loss: 0.7368 - val_accuracy: 0.5946\n",
      "Epoch 25/100\n",
      "4/4 [==============================] - 0s 15ms/step - loss: 0.3945 - accuracy: 0.8378 - val_loss: 0.7290 - val_accuracy: 0.5946\n",
      "Epoch 26/100\n",
      "4/4 [==============================] - 0s 14ms/step - loss: 0.3894 - accuracy: 0.8378 - val_loss: 0.7251 - val_accuracy: 0.5946\n",
      "Epoch 27/100\n",
      "4/4 [==============================] - 0s 15ms/step - loss: 0.3842 - accuracy: 0.8378 - val_loss: 0.7159 - val_accuracy: 0.5946\n",
      "Epoch 28/100\n",
      "4/4 [==============================] - 0s 13ms/step - loss: 0.3792 - accuracy: 0.8378 - val_loss: 0.7053 - val_accuracy: 0.6216\n",
      "Epoch 29/100\n",
      "4/4 [==============================] - 0s 15ms/step - loss: 0.3745 - accuracy: 0.8468 - val_loss: 0.6968 - val_accuracy: 0.6216\n",
      "Epoch 30/100\n",
      "4/4 [==============================] - 0s 14ms/step - loss: 0.3699 - accuracy: 0.8468 - val_loss: 0.6882 - val_accuracy: 0.6216\n",
      "Epoch 31/100\n",
      "4/4 [==============================] - 0s 15ms/step - loss: 0.3653 - accuracy: 0.8559 - val_loss: 0.6808 - val_accuracy: 0.6486\n",
      "Epoch 32/100\n",
      "4/4 [==============================] - 0s 14ms/step - loss: 0.3609 - accuracy: 0.8559 - val_loss: 0.6729 - val_accuracy: 0.6486\n",
      "Epoch 33/100\n",
      "4/4 [==============================] - 0s 14ms/step - loss: 0.3567 - accuracy: 0.8559 - val_loss: 0.6670 - val_accuracy: 0.6757\n",
      "Epoch 34/100\n",
      "4/4 [==============================] - 0s 14ms/step - loss: 0.3526 - accuracy: 0.8649 - val_loss: 0.6605 - val_accuracy: 0.6757\n",
      "Epoch 35/100\n",
      "4/4 [==============================] - 0s 14ms/step - loss: 0.3486 - accuracy: 0.8649 - val_loss: 0.6533 - val_accuracy: 0.6757\n",
      "Epoch 36/100\n",
      "4/4 [==============================] - 0s 19ms/step - loss: 0.3446 - accuracy: 0.8649 - val_loss: 0.6433 - val_accuracy: 0.6757\n",
      "Epoch 37/100\n",
      "4/4 [==============================] - 0s 14ms/step - loss: 0.3408 - accuracy: 0.8649 - val_loss: 0.6341 - val_accuracy: 0.6757\n",
      "Epoch 38/100\n",
      "4/4 [==============================] - 0s 13ms/step - loss: 0.3367 - accuracy: 0.8649 - val_loss: 0.6246 - val_accuracy: 0.6757\n",
      "Epoch 39/100\n",
      "4/4 [==============================] - 0s 19ms/step - loss: 0.3329 - accuracy: 0.8649 - val_loss: 0.6190 - val_accuracy: 0.7027\n",
      "Epoch 40/100\n",
      "4/4 [==============================] - 0s 13ms/step - loss: 0.3293 - accuracy: 0.8649 - val_loss: 0.6097 - val_accuracy: 0.7027\n",
      "Epoch 41/100\n",
      "4/4 [==============================] - 0s 13ms/step - loss: 0.3257 - accuracy: 0.8649 - val_loss: 0.6011 - val_accuracy: 0.7297\n",
      "Epoch 42/100\n",
      "4/4 [==============================] - 0s 13ms/step - loss: 0.3221 - accuracy: 0.8829 - val_loss: 0.5953 - val_accuracy: 0.7568\n",
      "Epoch 43/100\n",
      "4/4 [==============================] - 0s 15ms/step - loss: 0.3186 - accuracy: 0.8829 - val_loss: 0.5910 - val_accuracy: 0.7568\n",
      "Epoch 44/100\n",
      "4/4 [==============================] - 0s 13ms/step - loss: 0.3155 - accuracy: 0.8829 - val_loss: 0.5788 - val_accuracy: 0.7568\n",
      "Epoch 45/100\n",
      "4/4 [==============================] - 0s 18ms/step - loss: 0.3115 - accuracy: 0.8829 - val_loss: 0.5729 - val_accuracy: 0.7568\n",
      "Epoch 46/100\n",
      "4/4 [==============================] - 0s 14ms/step - loss: 0.3081 - accuracy: 0.8829 - val_loss: 0.5652 - val_accuracy: 0.7568\n",
      "Epoch 47/100\n",
      "4/4 [==============================] - 0s 13ms/step - loss: 0.3049 - accuracy: 0.8829 - val_loss: 0.5556 - val_accuracy: 0.7568\n",
      "Epoch 48/100\n",
      "4/4 [==============================] - 0s 14ms/step - loss: 0.3015 - accuracy: 0.8829 - val_loss: 0.5500 - val_accuracy: 0.7568\n",
      "Epoch 49/100\n",
      "4/4 [==============================] - 0s 14ms/step - loss: 0.2982 - accuracy: 0.8829 - val_loss: 0.5436 - val_accuracy: 0.7568\n",
      "Epoch 50/100\n",
      "4/4 [==============================] - 0s 14ms/step - loss: 0.2950 - accuracy: 0.8829 - val_loss: 0.5365 - val_accuracy: 0.7838\n",
      "Epoch 51/100\n",
      "4/4 [==============================] - 0s 13ms/step - loss: 0.2918 - accuracy: 0.8919 - val_loss: 0.5298 - val_accuracy: 0.7838\n",
      "Epoch 52/100\n",
      "4/4 [==============================] - 0s 13ms/step - loss: 0.2886 - accuracy: 0.8919 - val_loss: 0.5221 - val_accuracy: 0.7838\n",
      "Epoch 53/100\n",
      "4/4 [==============================] - 0s 15ms/step - loss: 0.2854 - accuracy: 0.8919 - val_loss: 0.5134 - val_accuracy: 0.8108\n",
      "Epoch 54/100\n",
      "4/4 [==============================] - 0s 14ms/step - loss: 0.2824 - accuracy: 0.9009 - val_loss: 0.5051 - val_accuracy: 0.8108\n",
      "Epoch 55/100\n",
      "4/4 [==============================] - 0s 13ms/step - loss: 0.2795 - accuracy: 0.9009 - val_loss: 0.5012 - val_accuracy: 0.8378\n",
      "Epoch 56/100\n",
      "4/4 [==============================] - 0s 14ms/step - loss: 0.2761 - accuracy: 0.9099 - val_loss: 0.4939 - val_accuracy: 0.8378\n",
      "Epoch 57/100\n",
      "4/4 [==============================] - 0s 14ms/step - loss: 0.2734 - accuracy: 0.9099 - val_loss: 0.4864 - val_accuracy: 0.8378\n",
      "Epoch 58/100\n",
      "4/4 [==============================] - 0s 13ms/step - loss: 0.2703 - accuracy: 0.9189 - val_loss: 0.4818 - val_accuracy: 0.8649\n",
      "Epoch 59/100\n",
      "4/4 [==============================] - 0s 14ms/step - loss: 0.2672 - accuracy: 0.9189 - val_loss: 0.4761 - val_accuracy: 0.8649\n",
      "Epoch 60/100\n",
      "4/4 [==============================] - 0s 13ms/step - loss: 0.2645 - accuracy: 0.9189 - val_loss: 0.4670 - val_accuracy: 0.8649\n",
      "Epoch 61/100\n",
      "4/4 [==============================] - 0s 13ms/step - loss: 0.2616 - accuracy: 0.9189 - val_loss: 0.4614 - val_accuracy: 0.8649\n",
      "Epoch 62/100\n",
      "4/4 [==============================] - 0s 13ms/step - loss: 0.2586 - accuracy: 0.9189 - val_loss: 0.4545 - val_accuracy: 0.8649\n",
      "Epoch 63/100\n",
      "4/4 [==============================] - 0s 14ms/step - loss: 0.2557 - accuracy: 0.9189 - val_loss: 0.4521 - val_accuracy: 0.8649\n",
      "Epoch 64/100\n",
      "4/4 [==============================] - 0s 13ms/step - loss: 0.2530 - accuracy: 0.9189 - val_loss: 0.4500 - val_accuracy: 0.8649\n",
      "Epoch 65/100\n",
      "4/4 [==============================] - 0s 14ms/step - loss: 0.2500 - accuracy: 0.9189 - val_loss: 0.4442 - val_accuracy: 0.8649\n",
      "Epoch 66/100\n",
      "4/4 [==============================] - 0s 13ms/step - loss: 0.2473 - accuracy: 0.9189 - val_loss: 0.4379 - val_accuracy: 0.8649\n",
      "Epoch 67/100\n",
      "4/4 [==============================] - 0s 14ms/step - loss: 0.2445 - accuracy: 0.9189 - val_loss: 0.4348 - val_accuracy: 0.8649\n",
      "Epoch 68/100\n",
      "4/4 [==============================] - 0s 13ms/step - loss: 0.2419 - accuracy: 0.9279 - val_loss: 0.4332 - val_accuracy: 0.8649\n",
      "Epoch 69/100\n",
      "4/4 [==============================] - 0s 13ms/step - loss: 0.2391 - accuracy: 0.9279 - val_loss: 0.4328 - val_accuracy: 0.8649\n",
      "Epoch 70/100\n",
      "4/4 [==============================] - 0s 15ms/step - loss: 0.2365 - accuracy: 0.9279 - val_loss: 0.4324 - val_accuracy: 0.8649\n",
      "Epoch 71/100\n",
      "4/4 [==============================] - 0s 15ms/step - loss: 0.2341 - accuracy: 0.9279 - val_loss: 0.4291 - val_accuracy: 0.8649\n",
      "Epoch 72/100\n",
      "4/4 [==============================] - 0s 14ms/step - loss: 0.2315 - accuracy: 0.9279 - val_loss: 0.4242 - val_accuracy: 0.8649\n",
      "Epoch 73/100\n",
      "4/4 [==============================] - 0s 14ms/step - loss: 0.2289 - accuracy: 0.9279 - val_loss: 0.4161 - val_accuracy: 0.8649\n",
      "Epoch 74/100\n",
      "4/4 [==============================] - 0s 14ms/step - loss: 0.2265 - accuracy: 0.9279 - val_loss: 0.4074 - val_accuracy: 0.8649\n",
      "Epoch 75/100\n",
      "4/4 [==============================] - 0s 19ms/step - loss: 0.2242 - accuracy: 0.9279 - val_loss: 0.4002 - val_accuracy: 0.8649\n",
      "Epoch 76/100\n",
      "4/4 [==============================] - 0s 19ms/step - loss: 0.2216 - accuracy: 0.9369 - val_loss: 0.3950 - val_accuracy: 0.8919\n",
      "Epoch 77/100\n",
      "4/4 [==============================] - 0s 14ms/step - loss: 0.2194 - accuracy: 0.9369 - val_loss: 0.3927 - val_accuracy: 0.8919\n",
      "Epoch 78/100\n",
      "4/4 [==============================] - 0s 14ms/step - loss: 0.2171 - accuracy: 0.9369 - val_loss: 0.3889 - val_accuracy: 0.8919\n",
      "Epoch 79/100\n",
      "4/4 [==============================] - 0s 14ms/step - loss: 0.2145 - accuracy: 0.9369 - val_loss: 0.3889 - val_accuracy: 0.9189\n",
      "Epoch 80/100\n",
      "4/4 [==============================] - 0s 13ms/step - loss: 0.2128 - accuracy: 0.9459 - val_loss: 0.3911 - val_accuracy: 0.9189\n",
      "Epoch 81/100\n",
      "4/4 [==============================] - 0s 13ms/step - loss: 0.2104 - accuracy: 0.9550 - val_loss: 0.3884 - val_accuracy: 0.9189\n",
      "Epoch 82/100\n",
      "4/4 [==============================] - 0s 13ms/step - loss: 0.2084 - accuracy: 0.9550 - val_loss: 0.3834 - val_accuracy: 0.9189\n",
      "Epoch 83/100\n",
      "4/4 [==============================] - 0s 14ms/step - loss: 0.2060 - accuracy: 0.9550 - val_loss: 0.3767 - val_accuracy: 0.9189\n",
      "Epoch 84/100\n",
      "4/4 [==============================] - 0s 13ms/step - loss: 0.2040 - accuracy: 0.9550 - val_loss: 0.3679 - val_accuracy: 0.9189\n",
      "Epoch 85/100\n",
      "4/4 [==============================] - 0s 15ms/step - loss: 0.2019 - accuracy: 0.9459 - val_loss: 0.3601 - val_accuracy: 0.9189\n",
      "Epoch 86/100\n",
      "4/4 [==============================] - 0s 13ms/step - loss: 0.1996 - accuracy: 0.9459 - val_loss: 0.3549 - val_accuracy: 0.9189\n",
      "Epoch 87/100\n",
      "4/4 [==============================] - 0s 13ms/step - loss: 0.1976 - accuracy: 0.9459 - val_loss: 0.3482 - val_accuracy: 0.9189\n",
      "Epoch 88/100\n",
      "4/4 [==============================] - 0s 14ms/step - loss: 0.1953 - accuracy: 0.9459 - val_loss: 0.3376 - val_accuracy: 0.9189\n",
      "Epoch 89/100\n",
      "4/4 [==============================] - 0s 13ms/step - loss: 0.1935 - accuracy: 0.9459 - val_loss: 0.3298 - val_accuracy: 0.9189\n",
      "Epoch 90/100\n",
      "4/4 [==============================] - 0s 14ms/step - loss: 0.1919 - accuracy: 0.9459 - val_loss: 0.3234 - val_accuracy: 0.9189\n",
      "Epoch 91/100\n",
      "4/4 [==============================] - 0s 12ms/step - loss: 0.1900 - accuracy: 0.9459 - val_loss: 0.3203 - val_accuracy: 0.9189\n",
      "Epoch 92/100\n",
      "4/4 [==============================] - 0s 14ms/step - loss: 0.1880 - accuracy: 0.9459 - val_loss: 0.3194 - val_accuracy: 0.9189\n",
      "Epoch 93/100\n",
      "4/4 [==============================] - 0s 13ms/step - loss: 0.1862 - accuracy: 0.9459 - val_loss: 0.3207 - val_accuracy: 0.9189\n",
      "Epoch 94/100\n",
      "4/4 [==============================] - 0s 12ms/step - loss: 0.1841 - accuracy: 0.9459 - val_loss: 0.3193 - val_accuracy: 0.9189\n",
      "Epoch 95/100\n",
      "4/4 [==============================] - 0s 15ms/step - loss: 0.1822 - accuracy: 0.9459 - val_loss: 0.3188 - val_accuracy: 0.9189\n",
      "Epoch 96/100\n",
      "4/4 [==============================] - 0s 14ms/step - loss: 0.1805 - accuracy: 0.9550 - val_loss: 0.3184 - val_accuracy: 0.9189\n",
      "Epoch 97/100\n",
      "4/4 [==============================] - 0s 14ms/step - loss: 0.1788 - accuracy: 0.9550 - val_loss: 0.3174 - val_accuracy: 0.9189\n",
      "Epoch 98/100\n",
      "4/4 [==============================] - 0s 15ms/step - loss: 0.1773 - accuracy: 0.9550 - val_loss: 0.3167 - val_accuracy: 0.9189\n",
      "Epoch 99/100\n",
      "4/4 [==============================] - 0s 18ms/step - loss: 0.1754 - accuracy: 0.9550 - val_loss: 0.3104 - val_accuracy: 0.9189\n",
      "Epoch 100/100\n",
      "4/4 [==============================] - 0s 13ms/step - loss: 0.1738 - accuracy: 0.9550 - val_loss: 0.3022 - val_accuracy: 0.9189\n"
     ]
    },
    {
     "data": {
      "text/plain": [
       "<keras.src.callbacks.History at 0x7d9c1744e1a0>"
      ]
     },
     "execution_count": 12,
     "metadata": {},
     "output_type": "execute_result"
    }
   ],
   "source": [
    "model.fit(x_train, y_train,\n",
    "          epochs=100,\n",
    "          validation_data=(x_test, y_test))"
   ]
  },
  {
   "cell_type": "markdown",
   "id": "991cc673",
   "metadata": {
    "papermill": {
     "duration": 0.039261,
     "end_time": "2024-02-09T10:41:52.718050",
     "exception": false,
     "start_time": "2024-02-09T10:41:52.678789",
     "status": "completed"
    },
    "tags": []
   },
   "source": [
    "## Begin The Automatic Procedure"
   ]
  },
  {
   "cell_type": "code",
   "execution_count": 13,
   "id": "472e561c",
   "metadata": {
    "execution": {
     "iopub.execute_input": "2024-02-09T10:41:52.799772Z",
     "iopub.status.busy": "2024-02-09T10:41:52.799251Z",
     "iopub.status.idle": "2024-02-09T10:41:52.821123Z",
     "shell.execute_reply": "2024-02-09T10:41:52.820005Z"
    },
    "papermill": {
     "duration": 0.065511,
     "end_time": "2024-02-09T10:41:52.823678",
     "exception": false,
     "start_time": "2024-02-09T10:41:52.758167",
     "status": "completed"
    },
    "tags": []
   },
   "outputs": [
    {
     "name": "stdout",
     "output_type": "stream",
     "text": [
      "<class 'pandas.core.frame.DataFrame'>\n",
      "RangeIndex: 150 entries, 0 to 149\n",
      "Data columns (total 5 columns):\n",
      " #   Column         Non-Null Count  Dtype  \n",
      "---  ------         --------------  -----  \n",
      " 0   SepalLengthCm  150 non-null    float64\n",
      " 1   SepalWidthCm   150 non-null    float64\n",
      " 2   PetalLengthCm  150 non-null    float64\n",
      " 3   PetalWidthCm   150 non-null    float64\n",
      " 4   Species        150 non-null    object \n",
      "dtypes: float64(4), object(1)\n",
      "memory usage: 6.0+ KB\n"
     ]
    }
   ],
   "source": [
    "df_auto = pd.read_csv('/kaggle/input/iris/Iris.csv')\n",
    "df_auto = df_auto.drop(columns=['Id'])\n",
    "df_auto.info()"
   ]
  },
  {
   "cell_type": "markdown",
   "id": "a3cf8e07",
   "metadata": {
    "papermill": {
     "duration": 0.038588,
     "end_time": "2024-02-09T10:41:52.902416",
     "exception": false,
     "start_time": "2024-02-09T10:41:52.863828",
     "status": "completed"
    },
    "tags": []
   },
   "source": [
    "## Encoding With Label Encoder"
   ]
  },
  {
   "cell_type": "code",
   "execution_count": 14,
   "id": "2cc70fae",
   "metadata": {
    "execution": {
     "iopub.execute_input": "2024-02-09T10:41:52.982414Z",
     "iopub.status.busy": "2024-02-09T10:41:52.981907Z",
     "iopub.status.idle": "2024-02-09T10:41:52.986914Z",
     "shell.execute_reply": "2024-02-09T10:41:52.985935Z"
    },
    "papermill": {
     "duration": 0.048072,
     "end_time": "2024-02-09T10:41:52.989301",
     "exception": false,
     "start_time": "2024-02-09T10:41:52.941229",
     "status": "completed"
    },
    "tags": []
   },
   "outputs": [],
   "source": [
    "from sklearn.preprocessing import LabelEncoder"
   ]
  },
  {
   "cell_type": "code",
   "execution_count": 15,
   "id": "65a957e8",
   "metadata": {
    "execution": {
     "iopub.execute_input": "2024-02-09T10:41:53.072915Z",
     "iopub.status.busy": "2024-02-09T10:41:53.071695Z",
     "iopub.status.idle": "2024-02-09T10:41:53.077945Z",
     "shell.execute_reply": "2024-02-09T10:41:53.077020Z"
    },
    "papermill": {
     "duration": 0.049703,
     "end_time": "2024-02-09T10:41:53.080285",
     "exception": false,
     "start_time": "2024-02-09T10:41:53.030582",
     "status": "completed"
    },
    "tags": []
   },
   "outputs": [],
   "source": [
    "encoder = LabelEncoder()\n",
    "df_auto['Species'] = encoder.fit_transform(df_auto['Species'])"
   ]
  },
  {
   "cell_type": "markdown",
   "id": "21e97908",
   "metadata": {
    "papermill": {
     "duration": 0.038126,
     "end_time": "2024-02-09T10:41:53.156936",
     "exception": false,
     "start_time": "2024-02-09T10:41:53.118810",
     "status": "completed"
    },
    "tags": []
   },
   "source": [
    "## Normalize Data Using StandardScaler"
   ]
  },
  {
   "cell_type": "code",
   "execution_count": 16,
   "id": "f15458b7",
   "metadata": {
    "execution": {
     "iopub.execute_input": "2024-02-09T10:41:53.237668Z",
     "iopub.status.busy": "2024-02-09T10:41:53.236248Z",
     "iopub.status.idle": "2024-02-09T10:41:53.242120Z",
     "shell.execute_reply": "2024-02-09T10:41:53.241131Z"
    },
    "papermill": {
     "duration": 0.04828,
     "end_time": "2024-02-09T10:41:53.244438",
     "exception": false,
     "start_time": "2024-02-09T10:41:53.196158",
     "status": "completed"
    },
    "tags": []
   },
   "outputs": [],
   "source": [
    "from sklearn.preprocessing import StandardScaler"
   ]
  },
  {
   "cell_type": "code",
   "execution_count": 17,
   "id": "5a82c18c",
   "metadata": {
    "execution": {
     "iopub.execute_input": "2024-02-09T10:41:53.424197Z",
     "iopub.status.busy": "2024-02-09T10:41:53.423359Z",
     "iopub.status.idle": "2024-02-09T10:41:53.434974Z",
     "shell.execute_reply": "2024-02-09T10:41:53.433984Z"
    },
    "papermill": {
     "duration": 0.056979,
     "end_time": "2024-02-09T10:41:53.437704",
     "exception": false,
     "start_time": "2024-02-09T10:41:53.380725",
     "status": "completed"
    },
    "tags": []
   },
   "outputs": [],
   "source": [
    "scaler = StandardScaler()\n",
    "X = scaler.fit_transform(df_auto.drop(columns=['Species']))"
   ]
  },
  {
   "cell_type": "markdown",
   "id": "9cefe98d",
   "metadata": {
    "papermill": {
     "duration": 0.039475,
     "end_time": "2024-02-09T10:41:53.518031",
     "exception": false,
     "start_time": "2024-02-09T10:41:53.478556",
     "status": "completed"
    },
    "tags": []
   },
   "source": [
    "## Train-Test Split"
   ]
  },
  {
   "cell_type": "code",
   "execution_count": 18,
   "id": "84e157b6",
   "metadata": {
    "execution": {
     "iopub.execute_input": "2024-02-09T10:41:53.601954Z",
     "iopub.status.busy": "2024-02-09T10:41:53.600571Z",
     "iopub.status.idle": "2024-02-09T10:41:53.606745Z",
     "shell.execute_reply": "2024-02-09T10:41:53.605840Z"
    },
    "papermill": {
     "duration": 0.051585,
     "end_time": "2024-02-09T10:41:53.609649",
     "exception": false,
     "start_time": "2024-02-09T10:41:53.558064",
     "status": "completed"
    },
    "tags": []
   },
   "outputs": [],
   "source": [
    "from sklearn.model_selection import train_test_split as tts"
   ]
  },
  {
   "cell_type": "code",
   "execution_count": 19,
   "id": "24388255",
   "metadata": {
    "execution": {
     "iopub.execute_input": "2024-02-09T10:41:53.692070Z",
     "iopub.status.busy": "2024-02-09T10:41:53.691579Z",
     "iopub.status.idle": "2024-02-09T10:41:53.699356Z",
     "shell.execute_reply": "2024-02-09T10:41:53.698101Z"
    },
    "papermill": {
     "duration": 0.051172,
     "end_time": "2024-02-09T10:41:53.701999",
     "exception": false,
     "start_time": "2024-02-09T10:41:53.650827",
     "status": "completed"
    },
    "tags": []
   },
   "outputs": [],
   "source": [
    "y = df_auto['Species']\n",
    "X_train, X_test, y_train, y_test = tts(X, y,\n",
    "                                       random_state=20,\n",
    "                                       test_size=0.25)"
   ]
  },
  {
   "cell_type": "markdown",
   "id": "97abb088",
   "metadata": {
    "papermill": {
     "duration": 0.038582,
     "end_time": "2024-02-09T10:41:53.779217",
     "exception": false,
     "start_time": "2024-02-09T10:41:53.740635",
     "status": "completed"
    },
    "tags": []
   },
   "source": [
    "## Model Import and Training"
   ]
  },
  {
   "cell_type": "code",
   "execution_count": 20,
   "id": "d13286d6",
   "metadata": {
    "execution": {
     "iopub.execute_input": "2024-02-09T10:41:53.858580Z",
     "iopub.status.busy": "2024-02-09T10:41:53.858103Z",
     "iopub.status.idle": "2024-02-09T10:41:53.874327Z",
     "shell.execute_reply": "2024-02-09T10:41:53.872790Z"
    },
    "papermill": {
     "duration": 0.059287,
     "end_time": "2024-02-09T10:41:53.877019",
     "exception": false,
     "start_time": "2024-02-09T10:41:53.817732",
     "status": "completed"
    },
    "tags": []
   },
   "outputs": [
    {
     "data": {
      "text/plain": [
       "0.8947368421052632"
      ]
     },
     "execution_count": 20,
     "metadata": {},
     "output_type": "execute_result"
    }
   ],
   "source": [
    "# Initiate the Model\n",
    "clf = KNeighborsClassifier()\n",
    "\n",
    "# Fit the Train Feature and Train Label\n",
    "clf.fit(X_train, y_train)\n",
    "\n",
    "# Test the Model using Test Feature and Test Label\n",
    "clf.score(X_test, y_test)"
   ]
  },
  {
   "cell_type": "markdown",
   "id": "07ab549b",
   "metadata": {
    "papermill": {
     "duration": 0.03936,
     "end_time": "2024-02-09T10:41:53.956113",
     "exception": false,
     "start_time": "2024-02-09T10:41:53.916753",
     "status": "completed"
    },
    "tags": []
   },
   "source": [
    "## Now using Deep Learining with Tensorflow"
   ]
  },
  {
   "cell_type": "code",
   "execution_count": 21,
   "id": "063f357d",
   "metadata": {
    "execution": {
     "iopub.execute_input": "2024-02-09T10:41:54.041716Z",
     "iopub.status.busy": "2024-02-09T10:41:54.041201Z",
     "iopub.status.idle": "2024-02-09T10:41:54.093416Z",
     "shell.execute_reply": "2024-02-09T10:41:54.092104Z"
    },
    "papermill": {
     "duration": 0.099995,
     "end_time": "2024-02-09T10:41:54.096487",
     "exception": false,
     "start_time": "2024-02-09T10:41:53.996492",
     "status": "completed"
    },
    "tags": []
   },
   "outputs": [],
   "source": [
    "model = Sequential([\n",
    "    layers.Dense(32, activation='linear',\n",
    "                 input_shape=[4,]),\n",
    "    layers.Dense(3, activation='softmax')\n",
    "])\n",
    "\n",
    "model.compile(loss='sparse_categorical_crossentropy',\n",
    "              optimizer='adam',\n",
    "              metrics=['accuracy'])"
   ]
  },
  {
   "cell_type": "code",
   "execution_count": 22,
   "id": "54810f6e",
   "metadata": {
    "execution": {
     "iopub.execute_input": "2024-02-09T10:41:54.176870Z",
     "iopub.status.busy": "2024-02-09T10:41:54.176373Z",
     "iopub.status.idle": "2024-02-09T10:41:59.948971Z",
     "shell.execute_reply": "2024-02-09T10:41:59.947514Z"
    },
    "papermill": {
     "duration": 5.815985,
     "end_time": "2024-02-09T10:41:59.951468",
     "exception": false,
     "start_time": "2024-02-09T10:41:54.135483",
     "status": "completed"
    },
    "tags": []
   },
   "outputs": [
    {
     "name": "stdout",
     "output_type": "stream",
     "text": [
      "Epoch 1/100\n",
      "4/4 [==============================] - 1s 71ms/step - loss: 0.6427 - accuracy: 0.7232 - val_loss: 0.6742 - val_accuracy: 0.7105\n",
      "Epoch 2/100\n",
      "4/4 [==============================] - 0s 14ms/step - loss: 0.6060 - accuracy: 0.7679 - val_loss: 0.6452 - val_accuracy: 0.7105\n",
      "Epoch 3/100\n",
      "4/4 [==============================] - 0s 13ms/step - loss: 0.5729 - accuracy: 0.7946 - val_loss: 0.6192 - val_accuracy: 0.7368\n",
      "Epoch 4/100\n",
      "4/4 [==============================] - 0s 13ms/step - loss: 0.5441 - accuracy: 0.8036 - val_loss: 0.5960 - val_accuracy: 0.7368\n",
      "Epoch 5/100\n",
      "4/4 [==============================] - 0s 13ms/step - loss: 0.5180 - accuracy: 0.8304 - val_loss: 0.5750 - val_accuracy: 0.7632\n",
      "Epoch 6/100\n",
      "4/4 [==============================] - 0s 13ms/step - loss: 0.4948 - accuracy: 0.8482 - val_loss: 0.5562 - val_accuracy: 0.7368\n",
      "Epoch 7/100\n",
      "4/4 [==============================] - 0s 13ms/step - loss: 0.4734 - accuracy: 0.8571 - val_loss: 0.5394 - val_accuracy: 0.7895\n",
      "Epoch 8/100\n",
      "4/4 [==============================] - 0s 14ms/step - loss: 0.4548 - accuracy: 0.8571 - val_loss: 0.5241 - val_accuracy: 0.8158\n",
      "Epoch 9/100\n",
      "4/4 [==============================] - 0s 13ms/step - loss: 0.4383 - accuracy: 0.8571 - val_loss: 0.5105 - val_accuracy: 0.8421\n",
      "Epoch 10/100\n",
      "4/4 [==============================] - 0s 14ms/step - loss: 0.4231 - accuracy: 0.8571 - val_loss: 0.4982 - val_accuracy: 0.8421\n",
      "Epoch 11/100\n",
      "4/4 [==============================] - 0s 13ms/step - loss: 0.4094 - accuracy: 0.8571 - val_loss: 0.4871 - val_accuracy: 0.8421\n",
      "Epoch 12/100\n",
      "4/4 [==============================] - 0s 13ms/step - loss: 0.3969 - accuracy: 0.8482 - val_loss: 0.4770 - val_accuracy: 0.8421\n",
      "Epoch 13/100\n",
      "4/4 [==============================] - 0s 12ms/step - loss: 0.3856 - accuracy: 0.8482 - val_loss: 0.4676 - val_accuracy: 0.8421\n",
      "Epoch 14/100\n",
      "4/4 [==============================] - 0s 14ms/step - loss: 0.3756 - accuracy: 0.8482 - val_loss: 0.4589 - val_accuracy: 0.8421\n",
      "Epoch 15/100\n",
      "4/4 [==============================] - 0s 14ms/step - loss: 0.3662 - accuracy: 0.8482 - val_loss: 0.4508 - val_accuracy: 0.8421\n",
      "Epoch 16/100\n",
      "4/4 [==============================] - 0s 13ms/step - loss: 0.3578 - accuracy: 0.8482 - val_loss: 0.4433 - val_accuracy: 0.8684\n",
      "Epoch 17/100\n",
      "4/4 [==============================] - 0s 13ms/step - loss: 0.3495 - accuracy: 0.8661 - val_loss: 0.4364 - val_accuracy: 0.8684\n",
      "Epoch 18/100\n",
      "4/4 [==============================] - 0s 13ms/step - loss: 0.3423 - accuracy: 0.8750 - val_loss: 0.4301 - val_accuracy: 0.8684\n",
      "Epoch 19/100\n",
      "4/4 [==============================] - 0s 14ms/step - loss: 0.3354 - accuracy: 0.8839 - val_loss: 0.4242 - val_accuracy: 0.8684\n",
      "Epoch 20/100\n",
      "4/4 [==============================] - 0s 19ms/step - loss: 0.3290 - accuracy: 0.8929 - val_loss: 0.4185 - val_accuracy: 0.8684\n",
      "Epoch 21/100\n",
      "4/4 [==============================] - 0s 14ms/step - loss: 0.3236 - accuracy: 0.9107 - val_loss: 0.4137 - val_accuracy: 0.8947\n",
      "Epoch 22/100\n",
      "4/4 [==============================] - 0s 14ms/step - loss: 0.3173 - accuracy: 0.9107 - val_loss: 0.4084 - val_accuracy: 0.8947\n",
      "Epoch 23/100\n",
      "4/4 [==============================] - 0s 14ms/step - loss: 0.3119 - accuracy: 0.9107 - val_loss: 0.4029 - val_accuracy: 0.8947\n",
      "Epoch 24/100\n",
      "4/4 [==============================] - 0s 14ms/step - loss: 0.3070 - accuracy: 0.9107 - val_loss: 0.3976 - val_accuracy: 0.8947\n",
      "Epoch 25/100\n",
      "4/4 [==============================] - 0s 12ms/step - loss: 0.3024 - accuracy: 0.9196 - val_loss: 0.3929 - val_accuracy: 0.8947\n",
      "Epoch 26/100\n",
      "4/4 [==============================] - 0s 13ms/step - loss: 0.2975 - accuracy: 0.9196 - val_loss: 0.3882 - val_accuracy: 0.8947\n",
      "Epoch 27/100\n",
      "4/4 [==============================] - 0s 13ms/step - loss: 0.2934 - accuracy: 0.9196 - val_loss: 0.3845 - val_accuracy: 0.8947\n",
      "Epoch 28/100\n",
      "4/4 [==============================] - 0s 14ms/step - loss: 0.2889 - accuracy: 0.9196 - val_loss: 0.3802 - val_accuracy: 0.8947\n",
      "Epoch 29/100\n",
      "4/4 [==============================] - 0s 13ms/step - loss: 0.2846 - accuracy: 0.9286 - val_loss: 0.3763 - val_accuracy: 0.8684\n",
      "Epoch 30/100\n",
      "4/4 [==============================] - 0s 14ms/step - loss: 0.2809 - accuracy: 0.9286 - val_loss: 0.3720 - val_accuracy: 0.8684\n",
      "Epoch 31/100\n",
      "4/4 [==============================] - 0s 13ms/step - loss: 0.2768 - accuracy: 0.9286 - val_loss: 0.3678 - val_accuracy: 0.8684\n",
      "Epoch 32/100\n",
      "4/4 [==============================] - 0s 13ms/step - loss: 0.2734 - accuracy: 0.9286 - val_loss: 0.3636 - val_accuracy: 0.8684\n",
      "Epoch 33/100\n",
      "4/4 [==============================] - 0s 18ms/step - loss: 0.2698 - accuracy: 0.9286 - val_loss: 0.3593 - val_accuracy: 0.8684\n",
      "Epoch 34/100\n",
      "4/4 [==============================] - 0s 15ms/step - loss: 0.2663 - accuracy: 0.9286 - val_loss: 0.3549 - val_accuracy: 0.8684\n",
      "Epoch 35/100\n",
      "4/4 [==============================] - 0s 13ms/step - loss: 0.2632 - accuracy: 0.9286 - val_loss: 0.3511 - val_accuracy: 0.8684\n",
      "Epoch 36/100\n",
      "4/4 [==============================] - 0s 13ms/step - loss: 0.2599 - accuracy: 0.9286 - val_loss: 0.3478 - val_accuracy: 0.8684\n",
      "Epoch 37/100\n",
      "4/4 [==============================] - 0s 14ms/step - loss: 0.2570 - accuracy: 0.9286 - val_loss: 0.3448 - val_accuracy: 0.8684\n",
      "Epoch 38/100\n",
      "4/4 [==============================] - 0s 13ms/step - loss: 0.2534 - accuracy: 0.9286 - val_loss: 0.3413 - val_accuracy: 0.8684\n",
      "Epoch 39/100\n",
      "4/4 [==============================] - 0s 14ms/step - loss: 0.2503 - accuracy: 0.9286 - val_loss: 0.3382 - val_accuracy: 0.8684\n",
      "Epoch 40/100\n",
      "4/4 [==============================] - 0s 13ms/step - loss: 0.2474 - accuracy: 0.9286 - val_loss: 0.3347 - val_accuracy: 0.8684\n",
      "Epoch 41/100\n",
      "4/4 [==============================] - 0s 14ms/step - loss: 0.2444 - accuracy: 0.9375 - val_loss: 0.3318 - val_accuracy: 0.8684\n",
      "Epoch 42/100\n",
      "4/4 [==============================] - 0s 13ms/step - loss: 0.2415 - accuracy: 0.9375 - val_loss: 0.3288 - val_accuracy: 0.8684\n",
      "Epoch 43/100\n",
      "4/4 [==============================] - 0s 12ms/step - loss: 0.2386 - accuracy: 0.9375 - val_loss: 0.3249 - val_accuracy: 0.8684\n",
      "Epoch 44/100\n",
      "4/4 [==============================] - 0s 13ms/step - loss: 0.2357 - accuracy: 0.9375 - val_loss: 0.3206 - val_accuracy: 0.8684\n",
      "Epoch 45/100\n",
      "4/4 [==============================] - 0s 12ms/step - loss: 0.2331 - accuracy: 0.9375 - val_loss: 0.3164 - val_accuracy: 0.8684\n",
      "Epoch 46/100\n",
      "4/4 [==============================] - 0s 14ms/step - loss: 0.2303 - accuracy: 0.9375 - val_loss: 0.3133 - val_accuracy: 0.8684\n",
      "Epoch 47/100\n",
      "4/4 [==============================] - 0s 14ms/step - loss: 0.2276 - accuracy: 0.9375 - val_loss: 0.3094 - val_accuracy: 0.8684\n",
      "Epoch 48/100\n",
      "4/4 [==============================] - 0s 18ms/step - loss: 0.2250 - accuracy: 0.9375 - val_loss: 0.3053 - val_accuracy: 0.8684\n",
      "Epoch 49/100\n",
      "4/4 [==============================] - 0s 14ms/step - loss: 0.2222 - accuracy: 0.9375 - val_loss: 0.3017 - val_accuracy: 0.8684\n",
      "Epoch 50/100\n",
      "4/4 [==============================] - 0s 15ms/step - loss: 0.2199 - accuracy: 0.9375 - val_loss: 0.2982 - val_accuracy: 0.8684\n",
      "Epoch 51/100\n",
      "4/4 [==============================] - 0s 13ms/step - loss: 0.2172 - accuracy: 0.9375 - val_loss: 0.2954 - val_accuracy: 0.8684\n",
      "Epoch 52/100\n",
      "4/4 [==============================] - 0s 13ms/step - loss: 0.2148 - accuracy: 0.9375 - val_loss: 0.2928 - val_accuracy: 0.8684\n",
      "Epoch 53/100\n",
      "4/4 [==============================] - 0s 14ms/step - loss: 0.2124 - accuracy: 0.9375 - val_loss: 0.2901 - val_accuracy: 0.8684\n",
      "Epoch 54/100\n",
      "4/4 [==============================] - 0s 13ms/step - loss: 0.2097 - accuracy: 0.9375 - val_loss: 0.2864 - val_accuracy: 0.8684\n",
      "Epoch 55/100\n",
      "4/4 [==============================] - 0s 14ms/step - loss: 0.2074 - accuracy: 0.9375 - val_loss: 0.2819 - val_accuracy: 0.8684\n",
      "Epoch 56/100\n",
      "4/4 [==============================] - 0s 12ms/step - loss: 0.2051 - accuracy: 0.9375 - val_loss: 0.2787 - val_accuracy: 0.8684\n",
      "Epoch 57/100\n",
      "4/4 [==============================] - 0s 14ms/step - loss: 0.2028 - accuracy: 0.9375 - val_loss: 0.2756 - val_accuracy: 0.8684\n",
      "Epoch 58/100\n",
      "4/4 [==============================] - 0s 13ms/step - loss: 0.2005 - accuracy: 0.9375 - val_loss: 0.2732 - val_accuracy: 0.8947\n",
      "Epoch 59/100\n",
      "4/4 [==============================] - 0s 13ms/step - loss: 0.1982 - accuracy: 0.9464 - val_loss: 0.2715 - val_accuracy: 0.8947\n",
      "Epoch 60/100\n",
      "4/4 [==============================] - 0s 14ms/step - loss: 0.1959 - accuracy: 0.9554 - val_loss: 0.2694 - val_accuracy: 0.8947\n",
      "Epoch 61/100\n",
      "4/4 [==============================] - 0s 13ms/step - loss: 0.1935 - accuracy: 0.9554 - val_loss: 0.2671 - val_accuracy: 0.8947\n",
      "Epoch 62/100\n",
      "4/4 [==============================] - 0s 13ms/step - loss: 0.1916 - accuracy: 0.9554 - val_loss: 0.2648 - val_accuracy: 0.8947\n",
      "Epoch 63/100\n",
      "4/4 [==============================] - 0s 14ms/step - loss: 0.1892 - accuracy: 0.9554 - val_loss: 0.2613 - val_accuracy: 0.8947\n",
      "Epoch 64/100\n",
      "4/4 [==============================] - 0s 13ms/step - loss: 0.1870 - accuracy: 0.9554 - val_loss: 0.2573 - val_accuracy: 0.8947\n",
      "Epoch 65/100\n",
      "4/4 [==============================] - 0s 13ms/step - loss: 0.1849 - accuracy: 0.9554 - val_loss: 0.2538 - val_accuracy: 0.8947\n",
      "Epoch 66/100\n",
      "4/4 [==============================] - 0s 13ms/step - loss: 0.1827 - accuracy: 0.9554 - val_loss: 0.2509 - val_accuracy: 0.8947\n",
      "Epoch 67/100\n",
      "4/4 [==============================] - 0s 14ms/step - loss: 0.1808 - accuracy: 0.9554 - val_loss: 0.2485 - val_accuracy: 0.8947\n",
      "Epoch 68/100\n",
      "4/4 [==============================] - 0s 14ms/step - loss: 0.1785 - accuracy: 0.9554 - val_loss: 0.2453 - val_accuracy: 0.8947\n",
      "Epoch 69/100\n",
      "4/4 [==============================] - 0s 13ms/step - loss: 0.1767 - accuracy: 0.9554 - val_loss: 0.2423 - val_accuracy: 0.8947\n",
      "Epoch 70/100\n",
      "4/4 [==============================] - 0s 13ms/step - loss: 0.1745 - accuracy: 0.9643 - val_loss: 0.2391 - val_accuracy: 0.8947\n",
      "Epoch 71/100\n",
      "4/4 [==============================] - 0s 14ms/step - loss: 0.1726 - accuracy: 0.9643 - val_loss: 0.2367 - val_accuracy: 0.8947\n",
      "Epoch 72/100\n",
      "4/4 [==============================] - 0s 16ms/step - loss: 0.1707 - accuracy: 0.9643 - val_loss: 0.2343 - val_accuracy: 0.8947\n",
      "Epoch 73/100\n",
      "4/4 [==============================] - 0s 16ms/step - loss: 0.1688 - accuracy: 0.9643 - val_loss: 0.2317 - val_accuracy: 0.8947\n",
      "Epoch 74/100\n",
      "4/4 [==============================] - 0s 13ms/step - loss: 0.1667 - accuracy: 0.9643 - val_loss: 0.2302 - val_accuracy: 0.8947\n",
      "Epoch 75/100\n",
      "4/4 [==============================] - 0s 17ms/step - loss: 0.1648 - accuracy: 0.9643 - val_loss: 0.2288 - val_accuracy: 0.8947\n",
      "Epoch 76/100\n",
      "4/4 [==============================] - 0s 13ms/step - loss: 0.1630 - accuracy: 0.9643 - val_loss: 0.2275 - val_accuracy: 0.8947\n",
      "Epoch 77/100\n",
      "4/4 [==============================] - 0s 14ms/step - loss: 0.1615 - accuracy: 0.9643 - val_loss: 0.2269 - val_accuracy: 0.8947\n",
      "Epoch 78/100\n",
      "4/4 [==============================] - 0s 13ms/step - loss: 0.1594 - accuracy: 0.9643 - val_loss: 0.2243 - val_accuracy: 0.8947\n",
      "Epoch 79/100\n",
      "4/4 [==============================] - 0s 14ms/step - loss: 0.1578 - accuracy: 0.9643 - val_loss: 0.2213 - val_accuracy: 0.8947\n",
      "Epoch 80/100\n",
      "4/4 [==============================] - 0s 12ms/step - loss: 0.1558 - accuracy: 0.9643 - val_loss: 0.2181 - val_accuracy: 0.8947\n",
      "Epoch 81/100\n",
      "4/4 [==============================] - 0s 13ms/step - loss: 0.1542 - accuracy: 0.9643 - val_loss: 0.2144 - val_accuracy: 0.8947\n",
      "Epoch 82/100\n",
      "4/4 [==============================] - 0s 16ms/step - loss: 0.1526 - accuracy: 0.9643 - val_loss: 0.2107 - val_accuracy: 0.8947\n",
      "Epoch 83/100\n",
      "4/4 [==============================] - 0s 12ms/step - loss: 0.1508 - accuracy: 0.9643 - val_loss: 0.2079 - val_accuracy: 0.8947\n",
      "Epoch 84/100\n",
      "4/4 [==============================] - 0s 18ms/step - loss: 0.1492 - accuracy: 0.9643 - val_loss: 0.2058 - val_accuracy: 0.9211\n",
      "Epoch 85/100\n",
      "4/4 [==============================] - 0s 13ms/step - loss: 0.1473 - accuracy: 0.9643 - val_loss: 0.2047 - val_accuracy: 0.9211\n",
      "Epoch 86/100\n",
      "4/4 [==============================] - 0s 14ms/step - loss: 0.1458 - accuracy: 0.9643 - val_loss: 0.2027 - val_accuracy: 0.9211\n",
      "Epoch 87/100\n",
      "4/4 [==============================] - 0s 14ms/step - loss: 0.1443 - accuracy: 0.9732 - val_loss: 0.2006 - val_accuracy: 0.9211\n",
      "Epoch 88/100\n",
      "4/4 [==============================] - 0s 14ms/step - loss: 0.1427 - accuracy: 0.9732 - val_loss: 0.1999 - val_accuracy: 0.9211\n",
      "Epoch 89/100\n",
      "4/4 [==============================] - 0s 13ms/step - loss: 0.1413 - accuracy: 0.9732 - val_loss: 0.1987 - val_accuracy: 0.9211\n",
      "Epoch 90/100\n",
      "4/4 [==============================] - 0s 14ms/step - loss: 0.1397 - accuracy: 0.9732 - val_loss: 0.1964 - val_accuracy: 0.9211\n",
      "Epoch 91/100\n",
      "4/4 [==============================] - 0s 14ms/step - loss: 0.1383 - accuracy: 0.9732 - val_loss: 0.1946 - val_accuracy: 0.9211\n",
      "Epoch 92/100\n",
      "4/4 [==============================] - 0s 14ms/step - loss: 0.1368 - accuracy: 0.9732 - val_loss: 0.1921 - val_accuracy: 0.9211\n",
      "Epoch 93/100\n",
      "4/4 [==============================] - 0s 14ms/step - loss: 0.1353 - accuracy: 0.9732 - val_loss: 0.1895 - val_accuracy: 0.9211\n",
      "Epoch 94/100\n",
      "4/4 [==============================] - 0s 14ms/step - loss: 0.1343 - accuracy: 0.9732 - val_loss: 0.1856 - val_accuracy: 0.9211\n",
      "Epoch 95/100\n",
      "4/4 [==============================] - 0s 14ms/step - loss: 0.1324 - accuracy: 0.9643 - val_loss: 0.1835 - val_accuracy: 0.9211\n",
      "Epoch 96/100\n",
      "4/4 [==============================] - 0s 13ms/step - loss: 0.1311 - accuracy: 0.9643 - val_loss: 0.1816 - val_accuracy: 0.9211\n",
      "Epoch 97/100\n",
      "4/4 [==============================] - 0s 14ms/step - loss: 0.1298 - accuracy: 0.9643 - val_loss: 0.1804 - val_accuracy: 0.9211\n",
      "Epoch 98/100\n",
      "4/4 [==============================] - 0s 14ms/step - loss: 0.1285 - accuracy: 0.9643 - val_loss: 0.1790 - val_accuracy: 0.9211\n",
      "Epoch 99/100\n",
      "4/4 [==============================] - 0s 14ms/step - loss: 0.1272 - accuracy: 0.9643 - val_loss: 0.1772 - val_accuracy: 0.9211\n",
      "Epoch 100/100\n",
      "4/4 [==============================] - 0s 14ms/step - loss: 0.1260 - accuracy: 0.9643 - val_loss: 0.1759 - val_accuracy: 0.9211\n"
     ]
    },
    {
     "data": {
      "text/plain": [
       "<keras.src.callbacks.History at 0x7d9c1742cc70>"
      ]
     },
     "execution_count": 22,
     "metadata": {},
     "output_type": "execute_result"
    }
   ],
   "source": [
    "model.fit(X_train, y_train,\n",
    "          epochs=100,\n",
    "          validation_data=(X_test, y_test))"
   ]
  }
 ],
 "metadata": {
  "kaggle": {
   "accelerator": "none",
   "dataSources": [
    {
     "datasetId": 19,
     "sourceId": 420,
     "sourceType": "datasetVersion"
    }
   ],
   "dockerImageVersionId": 30646,
   "isGpuEnabled": false,
   "isInternetEnabled": false,
   "language": "python",
   "sourceType": "notebook"
  },
  "kernelspec": {
   "display_name": "Python 3",
   "language": "python",
   "name": "python3"
  },
  "language_info": {
   "codemirror_mode": {
    "name": "ipython",
    "version": 3
   },
   "file_extension": ".py",
   "mimetype": "text/x-python",
   "name": "python",
   "nbconvert_exporter": "python",
   "pygments_lexer": "ipython3",
   "version": "3.10.13"
  },
  "papermill": {
   "default_parameters": {},
   "duration": 43.263724,
   "end_time": "2024-02-09T10:42:02.375981",
   "environment_variables": {},
   "exception": null,
   "input_path": "__notebook__.ipynb",
   "output_path": "__notebook__.ipynb",
   "parameters": {},
   "start_time": "2024-02-09T10:41:19.112257",
   "version": "2.5.0"
  }
 },
 "nbformat": 4,
 "nbformat_minor": 5
}
